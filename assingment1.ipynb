{
 "cells": [
  {
   "cell_type": "markdown",
   "id": "b018def4",
   "metadata": {},
   "source": [
    "1. In the below elements which of them are values or an expression? eg:- values can be\n",
    "integer or string and expressions will be mathematical operators.\n",
    "* --> expression\n",
    "'Hello' --> string\n",
    "-87.8 --> float\n",
    "-,/,+ -->expression\n",
    "6 --> integer"
   ]
  },
  {
   "cell_type": "markdown",
   "id": "4e1a29e5",
   "metadata": {},
   "source": [
    "2. What is the difference between string and variable?\n",
    "\n",
    " string --> string is a datatype\n",
    " variable --> variable are used to store the data type"
   ]
  },
  {
   "cell_type": "markdown",
   "id": "e2a572c8",
   "metadata": {},
   "source": [
    "3.Describe three different data types.\n",
    "string -- > string is a data type which is enclosed between 'single quotes' or \"double quotes\" string are non mutable datatype\n",
    "List --> list is a datatype which is enclosed between square brackets[], list are mutable datatype\n",
    "tupple --> list is a datatype which is enclosed between (), tupple are non mutable data type"
   ]
  },
  {
   "cell_type": "raw",
   "id": "68ad5ca8",
   "metadata": {},
   "source": [
    "4. What is an expression made up of? What do all expressions do?\n",
    "an expression is made up of operation and opearand \n",
    "expression are used perform a particular task \n"
   ]
  },
  {
   "cell_type": "markdown",
   "id": "a8cbb536",
   "metadata": {},
   "source": [
    "5. This assignment statements, like spam = 10. What is the difference between an expression and a statement?\n",
    "\n",
    "expression are the operations to perform a particular task \n",
    "statement are set of function which are created to perform a particular task"
   ]
  },
  {
   "cell_type": "markdown",
   "id": "4d6817a4",
   "metadata": {},
   "source": [
    "6. After running the following code, what does the variable bacon contain?\n",
    "bacon = 22\n",
    "bacon + 1\n",
    "\n",
    "-->22"
   ]
  },
  {
   "cell_type": "code",
   "execution_count": 1,
   "id": "5b7e3f7f",
   "metadata": {},
   "outputs": [
    {
     "data": {
      "text/plain": [
       "23"
      ]
     },
     "execution_count": 1,
     "metadata": {},
     "output_type": "execute_result"
    }
   ],
   "source": [
    "bacon =22\n",
    "bacon+1"
   ]
  },
  {
   "cell_type": "code",
   "execution_count": 2,
   "id": "8110ea94",
   "metadata": {},
   "outputs": [
    {
     "data": {
      "text/plain": [
       "22"
      ]
     },
     "execution_count": 2,
     "metadata": {},
     "output_type": "execute_result"
    }
   ],
   "source": [
    "bacon"
   ]
  },
  {
   "cell_type": "markdown",
   "id": "f3e4c86e",
   "metadata": {},
   "source": [
    "#7. What should the values of the following two terms be?\n",
    "\n",
    "'spam'+ 'spamspam' --> spamspamspam\n",
    "'spam'*3 --> spamspamspam"
   ]
  },
  {
   "cell_type": "code",
   "execution_count": 3,
   "id": "cf20e71f",
   "metadata": {},
   "outputs": [
    {
     "data": {
      "text/plain": [
       "'spamspamspam'"
      ]
     },
     "execution_count": 3,
     "metadata": {},
     "output_type": "execute_result"
    }
   ],
   "source": [
    "'spam'+ 'spamspam'"
   ]
  },
  {
   "cell_type": "code",
   "execution_count": 4,
   "id": "2e5aaa16",
   "metadata": {},
   "outputs": [
    {
     "data": {
      "text/plain": [
       "'spamspamspam'"
      ]
     },
     "execution_count": 4,
     "metadata": {},
     "output_type": "execute_result"
    }
   ],
   "source": [
    "'spam'*3"
   ]
  },
  {
   "cell_type": "markdown",
   "id": "dfd2ab04",
   "metadata": {},
   "source": [
    "8. Why is eggs a valid variable name while 100 is invalid?\n",
    "variable is havving a set of rules in which variable can alpabets or alphanumeric \n",
    "variable will not contain excepts any special characters except _\n",
    "variable should not start with numeric\n",
    "hence considering above rules 100 is invalid variable"
   ]
  },
  {
   "cell_type": "markdown",
   "id": "a37738c7",
   "metadata": {},
   "source": [
    "9. What three functions can be used to get the integer, floating-point number, or string\n",
    "version of a value?\n",
    "int()\n",
    "float()\n",
    "str()"
   ]
  },
  {
   "cell_type": "markdown",
   "id": "c430303f",
   "metadata": {},
   "source": [
    "10. Why does this expression cause an error? How can you fix it?\n",
    "'I have eaten' + 99 + 'burritos.'\n",
    "\n",
    "this expression gives error because string cannot concatenate with integer so 99 should be converted to string before conactating"
   ]
  },
  {
   "cell_type": "code",
   "execution_count": 7,
   "id": "ab4f4362",
   "metadata": {},
   "outputs": [
    {
     "data": {
      "text/plain": [
       "'I have eaten 99 burritos.'"
      ]
     },
     "execution_count": 7,
     "metadata": {},
     "output_type": "execute_result"
    }
   ],
   "source": [
    "'I have eaten' + ' 99 ' + 'burritos.'"
   ]
  },
  {
   "cell_type": "code",
   "execution_count": null,
   "id": "d73eaf09",
   "metadata": {},
   "outputs": [],
   "source": []
  }
 ],
 "metadata": {
  "kernelspec": {
   "display_name": "Python 3 (ipykernel)",
   "language": "python",
   "name": "python3"
  },
  "language_info": {
   "codemirror_mode": {
    "name": "ipython",
    "version": 3
   },
   "file_extension": ".py",
   "mimetype": "text/x-python",
   "name": "python",
   "nbconvert_exporter": "python",
   "pygments_lexer": "ipython3",
   "version": "3.9.12"
  }
 },
 "nbformat": 4,
 "nbformat_minor": 5
}
